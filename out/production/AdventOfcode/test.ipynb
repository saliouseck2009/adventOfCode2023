{
 "cells": [
  {
   "cell_type": "code",
   "execution_count": 41,
   "metadata": {
    "collapsed": true,
    "ExecuteTime": {
     "end_time": "2023-12-07T18:27:00.239365Z",
     "start_time": "2023-12-07T18:26:59.971779Z"
    }
   },
   "outputs": [
    {
     "name": "stdout",
     "output_type": "stream",
     "text": [
      "[T, 5, 5, J, 5]\n",
      "Line_24_jupyter$transformJokerToStrongestItem$$inlined$groupingBy$1@8422400\n",
      "{T=1, 5=3}\n",
      "5=3\n",
      "T5555"
     ]
    }
   ],
   "source": [
    "fun transformJokerToStrongestItem(value: String = \"T55J5\"): String {\n",
    "    if (value.contains('J') && value.count { it == 'J' } != 5) {\n",
    "        val list = value.toList()\n",
    "        println(list)\n",
    "        println(list.filter { it != 'J' }.groupingBy { it })\n",
    "        println(list.filter { it != 'J' }.groupingBy { it }.eachCount())\n",
    "        println(list.filter { it != 'J' }.groupingBy { it }.eachCount().maxBy { it.value })\n",
    "        val strongestKey = list.filter { it != 'J' }.groupingBy { it }.eachCount().maxBy { it.value }\n",
    "        return value.replace('J', strongestKey.key)\n",
    "    } else {\n",
    "        return value\n",
    "    }\n",
    "}\n",
    "\n",
    "\n",
    "print(transformJokerToStrongestItem())"
   ]
  },
  {
   "cell_type": "code",
   "execution_count": 42,
   "outputs": [],
   "source": [],
   "metadata": {
    "collapsed": false,
    "ExecuteTime": {
     "end_time": "2023-12-07T18:27:00.241758Z",
     "start_time": "2023-12-07T18:27:00.219796Z"
    }
   }
  }
 ],
 "metadata": {
  "kernelspec": {
   "display_name": "Kotlin",
   "language": "kotlin",
   "name": "kotlin"
  },
  "language_info": {
   "name": "kotlin",
   "version": "1.8.20",
   "mimetype": "text/x-kotlin",
   "file_extension": ".kt",
   "pygments_lexer": "kotlin",
   "codemirror_mode": "text/x-kotlin",
   "nbconvert_exporter": ""
  },
  "ktnbPluginMetadata": {
   "isAddProjectLibrariesToClasspath": false
  }
 },
 "nbformat": 4,
 "nbformat_minor": 0
}
